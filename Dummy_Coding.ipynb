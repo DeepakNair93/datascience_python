{
  "nbformat": 4,
  "nbformat_minor": 0,
  "metadata": {
    "kernelspec": {
      "display_name": "Python 3",
      "language": "python",
      "name": "python3"
    },
    "language_info": {
      "codemirror_mode": {
        "name": "ipython",
        "version": 3
      },
      "file_extension": ".py",
      "mimetype": "text/x-python",
      "name": "python",
      "nbconvert_exporter": "python",
      "pygments_lexer": "ipython3",
      "version": "3.8.3"
    },
    "colab": {
      "name": "Dummy_Coding.ipynb",
      "provenance": [],
      "toc_visible": true,
      "include_colab_link": true
    }
  },
  "cells": [
    {
      "cell_type": "markdown",
      "metadata": {
        "id": "view-in-github",
        "colab_type": "text"
      },
      "source": [
        "<a href=\"https://colab.research.google.com/github/DeepakNair93/datascience_python/blob/master/Dummy_Coding.ipynb\" target=\"_parent\"><img src=\"https://colab.research.google.com/assets/colab-badge.svg\" alt=\"Open In Colab\"/></a>"
      ]
    },
    {
      "cell_type": "code",
      "metadata": {
        "id": "rWidZYKMC3cQ"
      },
      "source": [
        "import pandas as pd\n",
        "import numpy as np"
      ],
      "execution_count": 1,
      "outputs": []
    },
    {
      "cell_type": "code",
      "metadata": {
        "id": "dBuxJkOCC3cW"
      },
      "source": [
        "df = pd.read_csv('Decision_Tree_Risk_Data.csv')"
      ],
      "execution_count": 2,
      "outputs": []
    },
    {
      "cell_type": "code",
      "metadata": {
        "id": "fW2BMXRLC3cY",
        "outputId": "fc3b3181-05ba-462c-ade4-2888a381b84b",
        "colab": {
          "base_uri": "https://localhost:8080/",
          "height": 284
        }
      },
      "source": [
        "df"
      ],
      "execution_count": 4,
      "outputs": [
        {
          "output_type": "execute_result",
          "data": {
            "text/html": [
              "<div>\n",
              "<style scoped>\n",
              "    .dataframe tbody tr th:only-of-type {\n",
              "        vertical-align: middle;\n",
              "    }\n",
              "\n",
              "    .dataframe tbody tr th {\n",
              "        vertical-align: top;\n",
              "    }\n",
              "\n",
              "    .dataframe thead th {\n",
              "        text-align: right;\n",
              "    }\n",
              "</style>\n",
              "<table border=\"1\" class=\"dataframe\">\n",
              "  <thead>\n",
              "    <tr style=\"text-align: right;\">\n",
              "      <th></th>\n",
              "      <th>Savings</th>\n",
              "      <th>Assets</th>\n",
              "      <th>Income ($1000s)</th>\n",
              "      <th>Credit Risk</th>\n",
              "    </tr>\n",
              "  </thead>\n",
              "  <tbody>\n",
              "    <tr>\n",
              "      <th>0</th>\n",
              "      <td>Medium</td>\n",
              "      <td>High</td>\n",
              "      <td>75</td>\n",
              "      <td>Good</td>\n",
              "    </tr>\n",
              "    <tr>\n",
              "      <th>1</th>\n",
              "      <td>Low</td>\n",
              "      <td>Low</td>\n",
              "      <td>50</td>\n",
              "      <td>Bad</td>\n",
              "    </tr>\n",
              "    <tr>\n",
              "      <th>2</th>\n",
              "      <td>High</td>\n",
              "      <td>Medium</td>\n",
              "      <td>25</td>\n",
              "      <td>Bad</td>\n",
              "    </tr>\n",
              "    <tr>\n",
              "      <th>3</th>\n",
              "      <td>Medium</td>\n",
              "      <td>Medium</td>\n",
              "      <td>50</td>\n",
              "      <td>Good</td>\n",
              "    </tr>\n",
              "    <tr>\n",
              "      <th>4</th>\n",
              "      <td>Low</td>\n",
              "      <td>Medium</td>\n",
              "      <td>100</td>\n",
              "      <td>Good</td>\n",
              "    </tr>\n",
              "    <tr>\n",
              "      <th>5</th>\n",
              "      <td>High</td>\n",
              "      <td>High</td>\n",
              "      <td>25</td>\n",
              "      <td>Good</td>\n",
              "    </tr>\n",
              "    <tr>\n",
              "      <th>6</th>\n",
              "      <td>Low</td>\n",
              "      <td>Low</td>\n",
              "      <td>25</td>\n",
              "      <td>Bad</td>\n",
              "    </tr>\n",
              "    <tr>\n",
              "      <th>7</th>\n",
              "      <td>Medium</td>\n",
              "      <td>Medium</td>\n",
              "      <td>75</td>\n",
              "      <td>Good</td>\n",
              "    </tr>\n",
              "  </tbody>\n",
              "</table>\n",
              "</div>"
            ],
            "text/plain": [
              "  Savings  Assets  Income ($1000s) Credit Risk\n",
              "0  Medium    High               75        Good\n",
              "1     Low     Low               50         Bad\n",
              "2    High  Medium               25         Bad\n",
              "3  Medium  Medium               50        Good\n",
              "4     Low  Medium              100        Good\n",
              "5    High    High               25        Good\n",
              "6     Low     Low               25         Bad\n",
              "7  Medium  Medium               75        Good"
            ]
          },
          "metadata": {
            "tags": []
          },
          "execution_count": 4
        }
      ]
    },
    {
      "cell_type": "code",
      "metadata": {
        "id": "HXAYVi7zC3ca",
        "outputId": "c0d51c65-f8ea-4fd6-d6ed-c091cfff4471",
        "colab": {
          "base_uri": "https://localhost:8080/"
        }
      },
      "source": [
        "df.info()"
      ],
      "execution_count": 5,
      "outputs": [
        {
          "output_type": "stream",
          "text": [
            "<class 'pandas.core.frame.DataFrame'>\n",
            "RangeIndex: 8 entries, 0 to 7\n",
            "Data columns (total 4 columns):\n",
            " #   Column           Non-Null Count  Dtype \n",
            "---  ------           --------------  ----- \n",
            " 0   Savings          8 non-null      object\n",
            " 1   Assets           8 non-null      object\n",
            " 2   Income ($1000s)  8 non-null      int64 \n",
            " 3   Credit Risk      8 non-null      object\n",
            "dtypes: int64(1), object(3)\n",
            "memory usage: 384.0+ bytes\n"
          ],
          "name": "stdout"
        }
      ]
    },
    {
      "cell_type": "markdown",
      "metadata": {
        "id": "l9v_hs-rC3cb"
      },
      "source": [
        "Here we have 'Income' as numerical & other variables as categorical."
      ]
    },
    {
      "cell_type": "markdown",
      "metadata": {
        "id": "hKZdnsyiC3cc"
      },
      "source": [
        "### Method 1 - Dummy Coding using Map method of pandas"
      ]
    },
    {
      "cell_type": "code",
      "metadata": {
        "id": "CX8l6wSTC3cd",
        "outputId": "3c1c0cb4-51e6-420e-ba7c-f69b2fbdc6de",
        "colab": {
          "base_uri": "https://localhost:8080/",
          "height": 195
        }
      },
      "source": [
        "df.head()"
      ],
      "execution_count": 6,
      "outputs": [
        {
          "output_type": "execute_result",
          "data": {
            "text/html": [
              "<div>\n",
              "<style scoped>\n",
              "    .dataframe tbody tr th:only-of-type {\n",
              "        vertical-align: middle;\n",
              "    }\n",
              "\n",
              "    .dataframe tbody tr th {\n",
              "        vertical-align: top;\n",
              "    }\n",
              "\n",
              "    .dataframe thead th {\n",
              "        text-align: right;\n",
              "    }\n",
              "</style>\n",
              "<table border=\"1\" class=\"dataframe\">\n",
              "  <thead>\n",
              "    <tr style=\"text-align: right;\">\n",
              "      <th></th>\n",
              "      <th>Savings</th>\n",
              "      <th>Assets</th>\n",
              "      <th>Income ($1000s)</th>\n",
              "      <th>Credit Risk</th>\n",
              "    </tr>\n",
              "  </thead>\n",
              "  <tbody>\n",
              "    <tr>\n",
              "      <th>0</th>\n",
              "      <td>Medium</td>\n",
              "      <td>High</td>\n",
              "      <td>75</td>\n",
              "      <td>Good</td>\n",
              "    </tr>\n",
              "    <tr>\n",
              "      <th>1</th>\n",
              "      <td>Low</td>\n",
              "      <td>Low</td>\n",
              "      <td>50</td>\n",
              "      <td>Bad</td>\n",
              "    </tr>\n",
              "    <tr>\n",
              "      <th>2</th>\n",
              "      <td>High</td>\n",
              "      <td>Medium</td>\n",
              "      <td>25</td>\n",
              "      <td>Bad</td>\n",
              "    </tr>\n",
              "    <tr>\n",
              "      <th>3</th>\n",
              "      <td>Medium</td>\n",
              "      <td>Medium</td>\n",
              "      <td>50</td>\n",
              "      <td>Good</td>\n",
              "    </tr>\n",
              "    <tr>\n",
              "      <th>4</th>\n",
              "      <td>Low</td>\n",
              "      <td>Medium</td>\n",
              "      <td>100</td>\n",
              "      <td>Good</td>\n",
              "    </tr>\n",
              "  </tbody>\n",
              "</table>\n",
              "</div>"
            ],
            "text/plain": [
              "  Savings  Assets  Income ($1000s) Credit Risk\n",
              "0  Medium    High               75        Good\n",
              "1     Low     Low               50         Bad\n",
              "2    High  Medium               25         Bad\n",
              "3  Medium  Medium               50        Good\n",
              "4     Low  Medium              100        Good"
            ]
          },
          "metadata": {
            "tags": []
          },
          "execution_count": 6
        }
      ]
    },
    {
      "cell_type": "code",
      "metadata": {
        "id": "q_ECw_2-C3ce"
      },
      "source": [
        "#for each of categorical variable give a numerical notation.\n",
        "df['Savings'] = df['Savings'].map({'Low':0,'Medium':1,'High':2})\n",
        "df['Assets'] = df['Assets'].map({'Low':0,'Medium':1,'High':2})\n",
        "df['Credit Risk'] = df['Credit Risk'].map({'Good':1,'Bad':0})"
      ],
      "execution_count": 7,
      "outputs": []
    },
    {
      "cell_type": "code",
      "metadata": {
        "id": "4xJKq3MsC3cf",
        "outputId": "69113687-b13d-4164-f85b-9b36ed5144d9",
        "colab": {
          "base_uri": "https://localhost:8080/",
          "height": 195
        }
      },
      "source": [
        "df.head()"
      ],
      "execution_count": 8,
      "outputs": [
        {
          "output_type": "execute_result",
          "data": {
            "text/html": [
              "<div>\n",
              "<style scoped>\n",
              "    .dataframe tbody tr th:only-of-type {\n",
              "        vertical-align: middle;\n",
              "    }\n",
              "\n",
              "    .dataframe tbody tr th {\n",
              "        vertical-align: top;\n",
              "    }\n",
              "\n",
              "    .dataframe thead th {\n",
              "        text-align: right;\n",
              "    }\n",
              "</style>\n",
              "<table border=\"1\" class=\"dataframe\">\n",
              "  <thead>\n",
              "    <tr style=\"text-align: right;\">\n",
              "      <th></th>\n",
              "      <th>Savings</th>\n",
              "      <th>Assets</th>\n",
              "      <th>Income ($1000s)</th>\n",
              "      <th>Credit Risk</th>\n",
              "    </tr>\n",
              "  </thead>\n",
              "  <tbody>\n",
              "    <tr>\n",
              "      <th>0</th>\n",
              "      <td>1</td>\n",
              "      <td>2</td>\n",
              "      <td>75</td>\n",
              "      <td>1</td>\n",
              "    </tr>\n",
              "    <tr>\n",
              "      <th>1</th>\n",
              "      <td>0</td>\n",
              "      <td>0</td>\n",
              "      <td>50</td>\n",
              "      <td>0</td>\n",
              "    </tr>\n",
              "    <tr>\n",
              "      <th>2</th>\n",
              "      <td>2</td>\n",
              "      <td>1</td>\n",
              "      <td>25</td>\n",
              "      <td>0</td>\n",
              "    </tr>\n",
              "    <tr>\n",
              "      <th>3</th>\n",
              "      <td>1</td>\n",
              "      <td>1</td>\n",
              "      <td>50</td>\n",
              "      <td>1</td>\n",
              "    </tr>\n",
              "    <tr>\n",
              "      <th>4</th>\n",
              "      <td>0</td>\n",
              "      <td>1</td>\n",
              "      <td>100</td>\n",
              "      <td>1</td>\n",
              "    </tr>\n",
              "  </tbody>\n",
              "</table>\n",
              "</div>"
            ],
            "text/plain": [
              "   Savings  Assets  Income ($1000s)  Credit Risk\n",
              "0        1       2               75            1\n",
              "1        0       0               50            0\n",
              "2        2       1               25            0\n",
              "3        1       1               50            1\n",
              "4        0       1              100            1"
            ]
          },
          "metadata": {
            "tags": []
          },
          "execution_count": 8
        }
      ]
    },
    {
      "cell_type": "code",
      "metadata": {
        "id": "QSEoZoyQC3cf",
        "outputId": "6c26d52c-5125-4364-f140-825f02d7c31a",
        "colab": {
          "base_uri": "https://localhost:8080/"
        }
      },
      "source": [
        "df.info()"
      ],
      "execution_count": 9,
      "outputs": [
        {
          "output_type": "stream",
          "text": [
            "<class 'pandas.core.frame.DataFrame'>\n",
            "RangeIndex: 8 entries, 0 to 7\n",
            "Data columns (total 4 columns):\n",
            " #   Column           Non-Null Count  Dtype\n",
            "---  ------           --------------  -----\n",
            " 0   Savings          8 non-null      int64\n",
            " 1   Assets           8 non-null      int64\n",
            " 2   Income ($1000s)  8 non-null      int64\n",
            " 3   Credit Risk      8 non-null      int64\n",
            "dtypes: int64(4)\n",
            "memory usage: 384.0 bytes\n"
          ],
          "name": "stdout"
        }
      ]
    },
    {
      "cell_type": "markdown",
      "metadata": {
        "id": "AJJjqXMgC3cg"
      },
      "source": [
        "The categorical data is converted to categorical variables"
      ]
    },
    {
      "cell_type": "markdown",
      "metadata": {
        "id": "ZmhXZD4KC3cg"
      },
      "source": [
        "## Method 2 - Using For Loop to convert categorical to numerical"
      ]
    },
    {
      "cell_type": "code",
      "metadata": {
        "id": "ivNXSBvfC3cg"
      },
      "source": [
        "#reading the file again.\n",
        "df = pd.read_csv('Decision_Tree_Risk_Data.csv')"
      ],
      "execution_count": 10,
      "outputs": []
    },
    {
      "cell_type": "code",
      "metadata": {
        "id": "_TsSYrglC3ch",
        "outputId": "7c3f599f-927f-4666-befb-407cbee71783",
        "colab": {
          "base_uri": "https://localhost:8080/"
        }
      },
      "source": [
        "df.dtypes"
      ],
      "execution_count": 11,
      "outputs": [
        {
          "output_type": "execute_result",
          "data": {
            "text/plain": [
              "Savings            object\n",
              "Assets             object\n",
              "Income ($1000s)     int64\n",
              "Credit Risk        object\n",
              "dtype: object"
            ]
          },
          "metadata": {
            "tags": []
          },
          "execution_count": 11
        }
      ]
    },
    {
      "cell_type": "code",
      "metadata": {
        "id": "FW-kUb8cC3ch"
      },
      "source": [
        "for x in df.columns:\n",
        "    if df[x].dtypes=='object':\n",
        "        df[x]=pd.Categorical(df[x]).codes"
      ],
      "execution_count": 12,
      "outputs": []
    }
  ]
}