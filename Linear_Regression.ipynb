{
  "nbformat": 4,
  "nbformat_minor": 0,
  "metadata": {
    "colab": {
      "name": "Untitled0.ipynb",
      "provenance": [],
      "collapsed_sections": [],
      "authorship_tag": "ABX9TyNxGpgFnKLPEJhdz/2PnO6l",
      "include_colab_link": true
    },
    "kernelspec": {
      "name": "python3",
      "display_name": "Python 3"
    }
  },
  "cells": [
    {
      "cell_type": "markdown",
      "metadata": {
        "id": "view-in-github",
        "colab_type": "text"
      },
      "source": [
        "<a href=\"https://colab.research.google.com/github/DeepakNair93/datascience_python/blob/master/Linear_Regression.ipynb\" target=\"_parent\"><img src=\"https://colab.research.google.com/assets/colab-badge.svg\" alt=\"Open In Colab\"/></a>"
      ]
    },
    {
      "cell_type": "markdown",
      "metadata": {
        "id": "nWlTdQke4ptj"
      },
      "source": [
        "## **Linear Regression**"
      ]
    },
    {
      "cell_type": "markdown",
      "metadata": {
        "id": "6SvvYY1O4zhs"
      },
      "source": [
        "Let us first import the pre-requisite libraries needed to perform the analysis\r\n"
      ]
    },
    {
      "cell_type": "code",
      "metadata": {
        "id": "rXlnGP1U4nlv"
      },
      "source": [
        "import pandas as pd  #for data manipulation.\r\n",
        "import numpy as np   #for scientific computing.\r\n",
        "import sklearn       #for machine learning\r\n",
        "import seaborn as sns #visualization package\r\n",
        "from sklearn.model_selection import train_test_split\r\n",
        "import matplotlib.pyplot as plt #plotting & visualization.\r\n",
        "\r\n",
        "%matplotlib inline  \r\n",
        "#to present the visualizations as a part of the notebook itself"
      ],
      "execution_count": 3,
      "outputs": []
    },
    {
      "cell_type": "markdown",
      "metadata": {
        "id": "6vHJc2xY6_vn"
      },
      "source": [
        "*Let us import the dataset & create a dataframe*"
      ]
    },
    {
      "cell_type": "code",
      "metadata": {
        "id": "eFL2kJV86eOG"
      },
      "source": [
        "#importing the inbuilt dataset in sklearn package for performing regression analysis.\r\n",
        "from sklearn import datasets\r\n",
        "diabetes = datasets.load_diabetes()"
      ],
      "execution_count": 15,
      "outputs": []
    },
    {
      "cell_type": "markdown",
      "metadata": {
        "id": "uw8HXjjN-8de"
      },
      "source": [
        "*Let us learn more about the dataset*"
      ]
    },
    {
      "cell_type": "code",
      "metadata": {
        "colab": {
          "base_uri": "https://localhost:8080/"
        },
        "id": "noECL29j8RYK",
        "outputId": "8a0479b8-da7c-44f3-e81c-c46ef3e71e84"
      },
      "source": [
        "print(diabetes.DESCR)"
      ],
      "execution_count": 17,
      "outputs": [
        {
          "output_type": "stream",
          "text": [
            ".. _diabetes_dataset:\n",
            "\n",
            "Diabetes dataset\n",
            "----------------\n",
            "\n",
            "Ten baseline variables, age, sex, body mass index, average blood\n",
            "pressure, and six blood serum measurements were obtained for each of n =\n",
            "442 diabetes patients, as well as the response of interest, a\n",
            "quantitative measure of disease progression one year after baseline.\n",
            "\n",
            "**Data Set Characteristics:**\n",
            "\n",
            "  :Number of Instances: 442\n",
            "\n",
            "  :Number of Attributes: First 10 columns are numeric predictive values\n",
            "\n",
            "  :Target: Column 11 is a quantitative measure of disease progression one year after baseline\n",
            "\n",
            "  :Attribute Information:\n",
            "      - Age\n",
            "      - Sex\n",
            "      - Body mass index\n",
            "      - Average blood pressure\n",
            "      - S1\n",
            "      - S2\n",
            "      - S3\n",
            "      - S4\n",
            "      - S5\n",
            "      - S6\n",
            "\n",
            "Note: Each of these 10 feature variables have been mean centered and scaled by the standard deviation times `n_samples` (i.e. the sum of squares of each column totals 1).\n",
            "\n",
            "Source URL:\n",
            "https://www4.stat.ncsu.edu/~boos/var.select/diabetes.html\n",
            "\n",
            "For more information see:\n",
            "Bradley Efron, Trevor Hastie, Iain Johnstone and Robert Tibshirani (2004) \"Least Angle Regression,\" Annals of Statistics (with discussion), 407-499.\n",
            "(https://web.stanford.edu/~hastie/Papers/LARS/LeastAngle_2002.pdf)\n"
          ],
          "name": "stdout"
        }
      ]
    },
    {
      "cell_type": "markdown",
      "metadata": {
        "id": "s0Q11DuW_epf"
      },
      "source": [
        "So we know the that the target/response/dependent varialble to be predicted is a continuous numerical value which is a measure of disease progression after one year.\r\n",
        "\r\n",
        "The features/independent variables we have are the 10 attributes from Age to serum measurement samples"
      ]
    },
    {
      "cell_type": "code",
      "metadata": {
        "colab": {
          "base_uri": "https://localhost:8080/"
        },
        "id": "IYHNaEDy8C17",
        "outputId": "18d35345-2d38-49e8-f563-fccc684b03d2"
      },
      "source": [
        "diabetes.feature_names   #checking the feature names"
      ],
      "execution_count": 11,
      "outputs": [
        {
          "output_type": "execute_result",
          "data": {
            "text/plain": [
              "['age', 'sex', 'bmi', 'bp', 's1', 's2', 's3', 's4', 's5', 's6']"
            ]
          },
          "metadata": {
            "tags": []
          },
          "execution_count": 11
        }
      ]
    },
    {
      "cell_type": "code",
      "metadata": {
        "colab": {
          "base_uri": "https://localhost:8080/"
        },
        "id": "t_A_9BCw8ah-",
        "outputId": "d09df0b1-4ee4-4fd8-b94a-faa5dfc0449e"
      },
      "source": [
        "diabetes.data.shape  #checking the shape of data"
      ],
      "execution_count": 19,
      "outputs": [
        {
          "output_type": "execute_result",
          "data": {
            "text/plain": [
              "(442, 10)"
            ]
          },
          "metadata": {
            "tags": []
          },
          "execution_count": 19
        }
      ]
    },
    {
      "cell_type": "markdown",
      "metadata": {
        "id": "jLF30lfbAlDu"
      },
      "source": [
        "**The features data has 442 rows & 10 columns**"
      ]
    },
    {
      "cell_type": "code",
      "metadata": {
        "colab": {
          "base_uri": "https://localhost:8080/"
        },
        "id": "kdHS_7x78c0M",
        "outputId": "58e248e2-6f28-47f0-eb0c-ab7d2171c3bd"
      },
      "source": [
        "diabetes.target.shape"
      ],
      "execution_count": 20,
      "outputs": [
        {
          "output_type": "execute_result",
          "data": {
            "text/plain": [
              "(442,)"
            ]
          },
          "metadata": {
            "tags": []
          },
          "execution_count": 20
        }
      ]
    },
    {
      "cell_type": "code",
      "metadata": {
        "id": "90zYLBtgAz19"
      },
      "source": [
        ""
      ],
      "execution_count": null,
      "outputs": []
    },
    {
      "cell_type": "code",
      "metadata": {
        "id": "g48Xevr1AyG3"
      },
      "source": [
        ""
      ],
      "execution_count": null,
      "outputs": []
    }
  ]
}