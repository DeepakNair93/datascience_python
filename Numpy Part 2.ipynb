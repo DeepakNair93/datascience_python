{
 "cells": [
  {
   "cell_type": "markdown",
   "metadata": {},
   "source": [
    "# Mathematical Functions in Numpy"
   ]
  },
  {
   "cell_type": "code",
   "execution_count": 1,
   "metadata": {},
   "outputs": [],
   "source": [
    "#importing the requisite numpy module\n",
    "import numpy as np"
   ]
  },
  {
   "cell_type": "code",
   "execution_count": 2,
   "metadata": {},
   "outputs": [
    {
     "name": "stdout",
     "output_type": "stream",
     "text": [
      "The mean of all elements in the matrix is:  3.5\n"
     ]
    }
   ],
   "source": [
    "#Computing the mean of an array \n",
    "#Lets create a numpy array to start with.\n",
    "\n",
    "x = np.array([[1,2,3],[4,5,6]])\n",
    "print(\"The mean of all elements in the matrix is: \", np.mean(x))"
   ]
  },
  {
   "cell_type": "markdown",
   "metadata": {},
   "source": [
    "###### What happens above is:\n",
    "##### (sum of all elements) / (number of all elements)"
   ]
  },
  {
   "cell_type": "code",
   "execution_count": 3,
   "metadata": {},
   "outputs": [
    {
     "name": "stdout",
     "output_type": "stream",
     "text": [
      "The sum of all elements: 21\n"
     ]
    }
   ],
   "source": [
    "#computing the sum\n",
    "\n",
    "print(\"The sum of all elements:\", np.sum(x))"
   ]
  },
  {
   "cell_type": "code",
   "execution_count": 4,
   "metadata": {},
   "outputs": [],
   "source": [
    "#Also we can specify which axis the sum has to be done here. Either by columns or rows. Let us take an example of a 2-D Array\n",
    "\n",
    "a = np.array([\n",
    "    [1,2,3],\n",
    "    [5,6,7],\n",
    "    [8,9,10]\n",
    "])"
   ]
  },
  {
   "cell_type": "code",
   "execution_count": 5,
   "metadata": {},
   "outputs": [
    {
     "data": {
      "text/plain": [
       "(3, 3)"
      ]
     },
     "execution_count": 5,
     "metadata": {},
     "output_type": "execute_result"
    }
   ],
   "source": [
    "a.shape  #so here we have a 3x3 matrix"
   ]
  },
  {
   "cell_type": "code",
   "execution_count": 6,
   "metadata": {},
   "outputs": [
    {
     "data": {
      "text/plain": [
       "array([14, 17, 20])"
      ]
     },
     "execution_count": 6,
     "metadata": {},
     "output_type": "execute_result"
    }
   ],
   "source": [
    "# Let us add the elements row-wise ( 0 denotes rows & 1 denotes columns in the matrix)\n",
    "np.sum(a, axis=0)\n",
    "a.sum(axis=0)  \n",
    "## Please Note : both above & below code does the same thing. \n",
    "##You could use the numpy array object(numpy array) 'a' to do operations o"
   ]
  },
  {
   "cell_type": "code",
   "execution_count": 7,
   "metadata": {},
   "outputs": [
    {
     "data": {
      "text/plain": [
       "array([ 6, 18, 27])"
      ]
     },
     "execution_count": 7,
     "metadata": {},
     "output_type": "execute_result"
    }
   ],
   "source": [
    "#change the axis to 1 to add the elements column wise\n",
    "a.sum(axis=1)"
   ]
  },
  {
   "cell_type": "markdown",
   "metadata": {},
   "source": [
    "##### same could be done using 3-D array."
   ]
  },
  {
   "cell_type": "code",
   "execution_count": 8,
   "metadata": {},
   "outputs": [],
   "source": [
    "b = np.array([[[1,2,3],\n",
    "               [4,5,6]\n",
    "              ]])     #a 3-D Array"
   ]
  },
  {
   "cell_type": "code",
   "execution_count": 9,
   "metadata": {},
   "outputs": [
    {
     "data": {
      "text/plain": [
       "(1, 2, 3)"
      ]
     },
     "execution_count": 9,
     "metadata": {},
     "output_type": "execute_result"
    }
   ],
   "source": [
    "b.shape"
   ]
  },
  {
   "cell_type": "code",
   "execution_count": 10,
   "metadata": {},
   "outputs": [
    {
     "data": {
      "text/plain": [
       "array([[1, 2, 3],\n",
       "       [4, 5, 6]])"
      ]
     },
     "execution_count": 10,
     "metadata": {},
     "output_type": "execute_result"
    }
   ],
   "source": [
    "b.sum(axis=0)   #no elements to add across the same plane.So it remains the same."
   ]
  },
  {
   "cell_type": "code",
   "execution_count": 11,
   "metadata": {},
   "outputs": [
    {
     "data": {
      "text/plain": [
       "array([[5, 7, 9]])"
      ]
     },
     "execution_count": 11,
     "metadata": {},
     "output_type": "execute_result"
    }
   ],
   "source": [
    "b.sum(axis=1)  #addition happens across the 3D plane"
   ]
  },
  {
   "cell_type": "code",
   "execution_count": 12,
   "metadata": {
    "scrolled": true
   },
   "outputs": [
    {
     "name": "stdout",
     "output_type": "stream",
     "text": [
      "The normal Matrix :\n",
      " [[ 1  2  3]\n",
      " [ 5  6  7]\n",
      " [ 8  9 10]]\n",
      "\n",
      "\n",
      "The trasposed matrix:\n",
      " [[ 1  5  8]\n",
      " [ 2  6  9]\n",
      " [ 3  7 10]]\n"
     ]
    }
   ],
   "source": [
    "# Let us now transpose the array\n",
    "print(\"The normal Matrix :\\n\", a)\n",
    "\n",
    "print(\"\\n\")\n",
    "\n",
    "print(\"The trasposed matrix:\\n\", a.T)"
   ]
  },
  {
   "cell_type": "code",
   "execution_count": 13,
   "metadata": {},
   "outputs": [],
   "source": [
    "# We could solve linear equations using matrices in numpy. Let us see how to do it.\n",
    "\n",
    "#Let us take2 equations,\n",
    "\n",
    "#   2x + 5y = 10\n",
    "#   -6x - 9y = 5\n",
    "\n",
    "#convert the equations into matrices. We separate the equations in the LHS & RHS to two separate matrices.\n",
    "\n",
    "ar1 = np.array([[2,5],[-6,-9]])\n",
    "ar2 = np.array([10,5])\n",
    "\n",
    "#\n",
    "sol = np.linalg.solve(ar1,ar2)  #use numpy linear algorithm solver to input the equation as separate LHS & RHS array."
   ]
  },
  {
   "cell_type": "markdown",
   "metadata": {},
   "source": [
    "###### x = -9.58333\n",
    "###### y = 5.83333"
   ]
  },
  {
   "cell_type": "code",
   "execution_count": 14,
   "metadata": {},
   "outputs": [
    {
     "data": {
      "text/plain": [
       "array([10.,  5.])"
      ]
     },
     "execution_count": 14,
     "metadata": {},
     "output_type": "execute_result"
    }
   ],
   "source": [
    "np.dot(ar1,sol)   \n",
    "#if we see this dot product. It is equal to equations. it multiplies the coefficients with x & y values to get the \n",
    "# RHS of the above equation i.e., 10 & 5   :-)"
   ]
  },
  {
   "cell_type": "markdown",
   "metadata": {},
   "source": [
    " "
   ]
  },
  {
   "cell_type": "markdown",
   "metadata": {},
   "source": [
    "Read about Numpy broadcasting\n",
    "\n",
    "https://numpy.org/doc/stable/user/basics.broadcasting.html"
   ]
  },
  {
   "cell_type": "markdown",
   "metadata": {},
   "source": [
    "Broadcasting is a numpy concept on how it deals with unequal arrays. You could read about it in the numpy website link above."
   ]
  }
 ],
 "metadata": {
  "kernelspec": {
   "display_name": "Python 3",
   "language": "python",
   "name": "python3"
  },
  "language_info": {
   "codemirror_mode": {
    "name": "ipython",
    "version": 3
   },
   "file_extension": ".py",
   "mimetype": "text/x-python",
   "name": "python",
   "nbconvert_exporter": "python",
   "pygments_lexer": "ipython3",
   "version": "3.8.3"
  }
 },
 "nbformat": 4,
 "nbformat_minor": 4
}
